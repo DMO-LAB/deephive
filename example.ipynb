{
 "cells": [
  {
   "attachments": {},
   "cell_type": "markdown",
   "metadata": {},
   "source": [
    "## DeepHive: A multi-agent reinforcement learning approach for automated discovery of swarm-based optimization policies"
   ]
  },
  {
   "cell_type": "code",
   "execution_count": 1,
   "metadata": {},
   "outputs": [],
   "source": [
    "from src.environment import OptimizationEnv\n",
    "import numpy as np\n",
    "import matplotlib.pyplot as plt"
   ]
  },
  {
   "cell_type": "code",
   "execution_count": 2,
   "metadata": {},
   "outputs": [
    {
     "data": {
      "image/png": "[encoded data removed]",
      "text/plain": [
       "<Figure size 432x288 with 2 Axes>"
      ]
     },
     "metadata": {
      "needs_background": "light"
     },
     "output_type": "display_data"
    }
   ],
   "source": [
    "def sphere(params:np.ndarray, minimize=False, plotable=False) -> np.ndarray:\n",
    "    \"\"\" The sphere function.\n",
    "    :param params: The parameters.\n",
    "    :param minimize: Whether to minimize or maximize the fitness function.\n",
    "    :param plotable: Whether the parameters are plotable.\n",
    "    :return: The fitness.\n",
    "    \"\"\"\n",
    "    # check the input is right\n",
    "    if not isinstance(params, np.ndarray):\n",
    "        raise TypeError('The parameters must be a numpy array.')\n",
    "    # calculate the fitness\n",
    "    # check if params is a 1D array and reshape it if it is\n",
    "    if len(params.shape) == 1:\n",
    "        params = params.reshape(1, -1)\n",
    "    if plotable:\n",
    "        # check if param is not 2D and raise an error if it is\n",
    "        if params.shape[0] != 2:\n",
    "            raise ValueError('The parameters must be a 2D numpy array.')\n",
    "        param1 = params[0, :]\n",
    "        param2 = params[1, :]\n",
    "        fitness = np.square(param1) + np.square(param2)\n",
    "    else:\n",
    "        fitness = np.sum(np.square(params), axis=1)\n",
    "    # check if the fitness should be minimized\n",
    "    return -fitness if minimize else fitness\n",
    "\n",
    "# plot the sphere function\n",
    "x = np.linspace(-5, 5, 100)\n",
    "y = np.linspace(-5, 5, 100)\n",
    "X, Y = np.meshgrid(x, y)\n",
    "Z = sphere(np.array([X, Y]), plotable=True)\n",
    "# plot 2D contour plot\n",
    "plt.contourf(X, Y, Z, 100)\n",
    "plt.colorbar()\n",
    "plt.show()\n"
   ]
  },
  {
   "cell_type": "code",
   "execution_count": 3,
   "metadata": {},
   "outputs": [],
   "source": [
    "title = 'sphere'\n",
    "n_agents = 10\n",
    "n_dim = 2\n",
    "bounds = [np.array([-2, -2]), np.array([2, 2])] # lower and upper bounds of the search space\n",
    "ep_len = 20\n",
    "env = OptimizationEnv(env_name=title, optFunc=sphere, n_agents=n_agents, n_dim=n_dim, bounds=bounds, ep_length=ep_len)"
   ]
  },
  {
   "cell_type": "code",
   "execution_count": 4,
   "metadata": {},
   "outputs": [
    {
     "name": "stdout",
     "output_type": "stream",
     "text": [
      "state: [[0.675      0.34       0.02668202]\n",
      " [0.7425     0.6625     0.14277132]\n",
      " [0.315      0.0125     0.8903434 ]\n",
      " [0.7225     0.4925     0.        ]\n",
      " [0.0425     0.7425     0.8752503 ]\n",
      " [0.075      0.8175     0.9285893 ]\n",
      " [0.0025     0.2725     1.        ]\n",
      " [0.245      0.2375     0.33788046]\n",
      " [0.335      0.68       0.04029836]\n",
      " [0.7775     0.15       0.6004956 ]]\n",
      "state shape: (10, 3)\n",
      "state type: <class 'numpy.ndarray'>\n"
     ]
    }
   ],
   "source": [
    "state = env.reset()\n",
    "print(f\"state: {state}\")\n",
    "print(f\"state shape: {state.shape}\")\n",
    "print(f\"state type: {type(state)}\")\n"
   ]
  },
  {
   "cell_type": "code",
   "execution_count": 5,
   "metadata": {},
   "outputs": [
    {
     "name": "stdout",
     "output_type": "stream",
     "text": [
      "actual_state: [[ 0.69999999 -0.64        0.8996    ]\n",
      " [ 0.96999999  0.64999999  1.3634    ]\n",
      " [-0.74       -1.95        4.3501    ]\n",
      " [ 0.88999999 -0.03        0.793     ]\n",
      " [-1.83        0.96999999  4.2898    ]\n",
      " [-1.7         1.26999999  4.5029    ]\n",
      " [-1.99       -0.91        4.7882    ]\n",
      " [-1.02       -1.05        2.1429    ]\n",
      " [-0.66        0.71999999  0.954     ]\n",
      " [ 1.10999999 -1.4         3.1921    ]]\n"
     ]
    }
   ],
   "source": [
    "# Get Actual State\n",
    "actual_state = env._get_actual_state()\n",
    "print(f\"actual_state: {actual_state}\")"
   ]
  },
  {
   "cell_type": "code",
   "execution_count": 6,
   "metadata": {},
   "outputs": [
    {
     "data": {
      "text/plain": [
       "array([[-0.95246506, -0.02120492,  1.03444076],\n",
       "       [ 0.61824314,  0.65719104,  0.20286987],\n",
       "       [ 1.29296777,  1.99606465,  0.5021729 ],\n",
       "       [ 0.46323464,  0.99008444,  1.18478447],\n",
       "       [-0.19020779,  0.57339259,  0.06510267],\n",
       "       [ 1.60926201, -0.19151431,  1.01358688],\n",
       "       [-0.9119032 , -0.39527478, -0.90900425],\n",
       "       [ 1.48278149,  0.87134592, -1.79499301],\n",
       "       [-0.83881515, -1.32659062, -1.44157081],\n",
       "       [ 1.1837109 , -1.15422402,  2.24656056]])"
      ]
     },
     "execution_count": 6,
     "metadata": {},
     "output_type": "execute_result"
    }
   ],
   "source": [
    "env.observation_space.sample()"
   ]
  },
  {
   "cell_type": "code",
   "execution_count": 7,
   "metadata": {},
   "outputs": [
    {
     "data": {
      "text/plain": [
       "array([[ 0.93031197,  0.45676172],\n",
       "       [ 0.8186313 ,  1.80184558],\n",
       "       [ 0.92427195, -0.10926228],\n",
       "       [ 0.84255953, -0.73054352],\n",
       "       [-0.262454  , -0.58186219],\n",
       "       [-0.59596407, -0.4635182 ],\n",
       "       [-1.32998566,  0.5532261 ],\n",
       "       [ 0.18199144,  1.00157539],\n",
       "       [ 0.05108931,  0.01089901],\n",
       "       [-0.18422718, -0.49824909]])"
      ]
     },
     "execution_count": 7,
     "metadata": {},
     "output_type": "execute_result"
    }
   ],
   "source": [
    "env.action_space.sample()"
   ]
  }
 ],
 "metadata": {
  "kernelspec": {
   "display_name": "RLEnv",
   "language": "python",
   "name": "python3"
  },
  "language_info": {
   "codemirror_mode": {
    "name": "ipython",
    "version": 3
   },
   "file_extension": ".py",
   "mimetype": "text/x-python",
   "name": "python",
   "nbconvert_exporter": "python",
   "pygments_lexer": "ipython3",
   "version": "3.9.10"
  },
  "orig_nbformat": 4
 },
 "nbformat": 4,
 "nbformat_minor": 2
}
